{
 "cells": [
  {
   "cell_type": "markdown",
   "metadata": {},
   "source": [
    "# VAE"
   ]
  },
  {
   "cell_type": "code",
   "execution_count": 2,
   "metadata": {},
   "outputs": [],
   "source": [
    "import torch"
   ]
  },
  {
   "cell_type": "code",
   "execution_count": 1,
   "metadata": {},
   "outputs": [],
   "source": [
    "from VAE.VAE import VariationalAutoencoder\n",
    "from torch.utils.data import DataLoader, random_split\n",
    "from VAE.torch_data import *"
   ]
  },
  {
   "cell_type": "code",
   "execution_count": 6,
   "metadata": {},
   "outputs": [
    {
     "ename": "ModuleNotFoundError",
     "evalue": "No module named 'DL_SBGMproject'",
     "output_type": "error",
     "traceback": [
      "\u001b[1;31m---------------------------------------------------------------------------\u001b[0m",
      "\u001b[1;31mModuleNotFoundError\u001b[0m                       Traceback (most recent call last)",
      "\u001b[1;32m<ipython-input-6-9c81febe12d9>\u001b[0m in \u001b[0;36m<module>\u001b[1;34m\u001b[0m\n\u001b[1;32m----> 1\u001b[1;33m \u001b[1;32mfrom\u001b[0m \u001b[0mMidiFile\u001b[0m\u001b[1;33m.\u001b[0m\u001b[0mmidi_file\u001b[0m \u001b[1;32mimport\u001b[0m \u001b[0mMidiFileParser\u001b[0m\u001b[1;33m\u001b[0m\u001b[1;33m\u001b[0m\u001b[0m\n\u001b[0m",
      "\u001b[1;32mc:\\Users\\Stanislasd’Orsetti\\DL_SBGMproject\\MidiFile\\midi_file.py\u001b[0m in \u001b[0;36m<module>\u001b[1;34m\u001b[0m\n\u001b[0;32m      7\u001b[0m \u001b[1;32mimport\u001b[0m \u001b[0msys\u001b[0m\u001b[1;33m\u001b[0m\u001b[1;33m\u001b[0m\u001b[0m\n\u001b[0;32m      8\u001b[0m \u001b[0msys\u001b[0m\u001b[1;33m.\u001b[0m\u001b[0mpath\u001b[0m\u001b[1;33m.\u001b[0m\u001b[0mappend\u001b[0m\u001b[1;33m(\u001b[0m\u001b[1;36m0\u001b[0m\u001b[1;33m)\u001b[0m\u001b[1;33m\u001b[0m\u001b[1;33m\u001b[0m\u001b[0m\n\u001b[1;32m----> 9\u001b[1;33m \u001b[1;32mfrom\u001b[0m \u001b[0mDL_SBGMproject\u001b[0m\u001b[1;33m.\u001b[0m\u001b[0mpreprocessing\u001b[0m\u001b[1;33m.\u001b[0m\u001b[0mcleaning\u001b[0m \u001b[1;32mimport\u001b[0m \u001b[0msort_by_size\u001b[0m\u001b[1;33m\u001b[0m\u001b[1;33m\u001b[0m\u001b[0m\n\u001b[0m\u001b[0;32m     10\u001b[0m \u001b[1;32mfrom\u001b[0m \u001b[0mDL_SBGMproject\u001b[0m\u001b[1;33m.\u001b[0m\u001b[0mpreprocessing\u001b[0m\u001b[1;33m.\u001b[0m\u001b[0mencoding\u001b[0m \u001b[1;32mimport\u001b[0m \u001b[1;33m*\u001b[0m\u001b[1;33m\u001b[0m\u001b[1;33m\u001b[0m\u001b[0m\n\u001b[0;32m     11\u001b[0m \u001b[1;32mfrom\u001b[0m \u001b[0mIPython\u001b[0m\u001b[1;33m.\u001b[0m\u001b[0mdisplay\u001b[0m \u001b[1;32mimport\u001b[0m \u001b[0mclear_output\u001b[0m\u001b[1;33m\u001b[0m\u001b[1;33m\u001b[0m\u001b[0m\n",
      "\u001b[1;31mModuleNotFoundError\u001b[0m: No module named 'DL_SBGMproject'"
     ]
    }
   ],
   "source": [
    "from MidiFile.midi_file import MidiFileParser"
   ]
  },
  {
   "cell_type": "code",
   "execution_count": null,
   "metadata": {},
   "outputs": [],
   "source": [
    "transform = BarTransform(bars=totalbars, note_count=NUM_PITCHES)#configures number of input bars\n",
    "midi_dataset = MidiDataset(csv_file=csv_path, transform = transform) #imports dataset\n",
    "midi_dataset.get_mem_usage()\n",
    "\n",
    "random_seed = 42\n",
    "test_split = .2\n",
    "shuffle = True\n",
    "\n",
    "if random_seed is not None:\n",
    "    np.random.seed(random_seed)\n",
    "    \n",
    "dataset_size = len(midi_dataset)           #number of musics on dataset\n",
    "test_size = int(test_split * dataset_size) #test size length\n",
    "train_size = dataset_size - test_size      #train data length\n",
    "\n",
    "train_dataset, test_dataset = random_split(midi_dataset, [train_size, test_size])\n",
    "\n",
    "train_loader = DataLoader(train_dataset, shuffle=shuffle, batch_size=batch_size, num_workers=4)#, sampler=train_sampler)\n",
    "test_loader = DataLoader(test_dataset, shuffle=shuffle, batch_size=batch_size, num_workers=4)#, sampler=test_sampler)\n",
    "\n",
    "print(\"Train size: {}, Test size: {}\".format(train_size, test_size))\n"
   ]
  },
  {
   "cell_type": "code",
   "execution_count": null,
   "metadata": {},
   "outputs": [],
   "source": [
    "input_size = NUM_PITCHES\n",
    "enc_hidden_size=256 #hidden size of encoder\n",
    "conductor_hidden_size=256 #hidden size of decoder\n",
    "decoders_hidden_size=64 #hidden size of decoder\n",
    "decoders_initial_size=32 #decoder input size\n",
    "n_layers_conductor=2 #not being used rn cuz number of layers is incorrect\n",
    "n_layers_decoder=3 #not being used rn cuz number of layers is incorrect\n",
    "latent_features=64 #latent space dimension\n",
    "sequence_length = 16 #notes per decoder\n",
    "dropout_rate = 0.2\n",
    "scheduled_decay_rate = 40"
   ]
  }
 ],
 "metadata": {
  "interpreter": {
   "hash": "cb75eb01dedf8b1a2e8c97d0a50be717c6a0ce94af4f3c765f7d98ac8bc1ea43"
  },
  "kernelspec": {
   "display_name": "Python 3.9.2 64-bit (system)",
   "language": "python",
   "name": "python3"
  },
  "language_info": {
   "codemirror_mode": {
    "name": "ipython",
    "version": 3
   },
   "file_extension": ".py",
   "mimetype": "text/x-python",
   "name": "python",
   "nbconvert_exporter": "python",
   "pygments_lexer": "ipython3",
   "version": "3.9.2"
  },
  "orig_nbformat": 4
 },
 "nbformat": 4,
 "nbformat_minor": 2
}
