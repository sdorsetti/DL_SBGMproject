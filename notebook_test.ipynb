{
 "cells": [
  {
   "cell_type": "markdown",
   "metadata": {},
   "source": [
    "# VAE"
   ]
  },
  {
   "cell_type": "code",
   "execution_count": 4,
   "metadata": {},
   "outputs": [],
   "source": [
    "import torch"
   ]
  },
  {
   "cell_type": "code",
   "execution_count": 3,
   "metadata": {},
   "outputs": [],
   "source": [
    "from VAE.VAE import VariationalAutoencoder\n",
    "from torch.utils.data import DataLoader, random_split\n",
    "from VAE.torch_data import *"
   ]
  },
  {
   "cell_type": "code",
   "execution_count": null,
   "metadata": {},
   "outputs": [],
   "source": [
    "cuda = torch.cuda.is_available()\n",
    "device = torch.device(\"cuda\" if torch.cuda.is_available() else \"cpu\")\n",
    "\n",
    "\n",
    "NOTESPERBAR=16 #total notes in one bar\n",
    "totalbars=16 #total bars as input \n",
    "NUM_PITCHES=60+1 # all possible notes to play +1 for silences\n",
    "TOTAL_NOTES=NOTESPERBAR*totalbars\n",
    "num_features=NUM_PITCHES #size of input feature vector\n",
    "batch_size = 64 #actual batchsize\n",
    "TEACHER_FORCING=True #not used but it will be needed"
   ]
  },
  {
   "cell_type": "code",
   "execution_count": null,
   "metadata": {},
   "outputs": [],
   "source": [
    "transform = BarTransform(bars=totalbars, note_count=NUM_PITCHES)#configures number of input bars\n",
    "midi_dataset = MidiDataset(csv_file=csv_path, transform = transform) #imports dataset\n",
    "midi_dataset.get_mem_usage()\n",
    "\n",
    "random_seed = 42\n",
    "test_split = .2\n",
    "shuffle = True\n",
    "\n",
    "if random_seed is not None:\n",
    "    np.random.seed(random_seed)\n",
    "    \n",
    "dataset_size = len(midi_dataset)           #number of musics on dataset\n",
    "test_size = int(test_split * dataset_size) #test size length\n",
    "train_size = dataset_size - test_size      #train data length\n",
    "\n",
    "train_dataset, test_dataset = random_split(midi_dataset, [train_size, test_size])\n",
    "\n",
    "train_loader = DataLoader(train_dataset, shuffle=shuffle, batch_size=batch_size, num_workers=4)#, sampler=train_sampler)\n",
    "test_loader = DataLoader(test_dataset, shuffle=shuffle, batch_size=batch_size, num_workers=4)#, sampler=test_sampler)\n",
    "\n",
    "print(\"Train size: {}, Test size: {}\".format(train_size, test_size))\n"
   ]
  },
  {
   "cell_type": "code",
   "execution_count": null,
   "metadata": {},
   "outputs": [],
   "source": [
    "input_size = NUM_PITCHES\n",
    "enc_hidden_size=256 #hidden size of encoder\n",
    "conductor_hidden_size=256 #hidden size of decoder\n",
    "decoders_hidden_size=64 #hidden size of decoder\n",
    "decoders_initial_size=32 #decoder input size\n",
    "n_layers_conductor=2 #not being used rn cuz number of layers is incorrect\n",
    "n_layers_decoder=3 #not being used rn cuz number of layers is incorrect\n",
    "latent_features=64 #latent space dimension\n",
    "sequence_length = 16 #notes per decoder\n",
    "dropout_rate = 0.2\n",
    "scheduled_decay_rate = 40"
   ]
  }
 ],
 "metadata": {
  "interpreter": {
   "hash": "cb75eb01dedf8b1a2e8c97d0a50be717c6a0ce94af4f3c765f7d98ac8bc1ea43"
  },
  "kernelspec": {
   "display_name": "Python 3.9.2 64-bit (system)",
   "language": "python",
   "name": "python3"
  },
  "language_info": {
   "codemirror_mode": {
    "name": "ipython",
    "version": 3
   },
   "file_extension": ".py",
   "mimetype": "text/x-python",
   "name": "python",
   "nbconvert_exporter": "python",
   "pygments_lexer": "ipython3",
   "version": "3.9.2"
  },
  "orig_nbformat": 4
 },
 "nbformat": 4,
 "nbformat_minor": 2
}
